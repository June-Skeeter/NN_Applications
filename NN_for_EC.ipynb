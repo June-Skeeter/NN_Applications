{
 "cells": [
  {
   "attachments": {},
   "cell_type": "markdown",
   "id": "c736d469",
   "metadata": {},
   "source": [
    "# Neural Networks for Eddy Covarinace"
   ]
  },
  {
   "cell_type": "code",
   "execution_count": 1,
   "id": "78f70468",
   "metadata": {},
   "outputs": [
    {
     "name": "stderr",
     "output_type": "stream",
     "text": [
      "2023-05-06 10:31:07.360259: I tensorflow/core/util/util.cc:169] oneDNN custom operations are on. You may see slightly different numerical results due to floating-point round-off errors from different computation orders. To turn them off, set the environment variable `TF_ENABLE_ONEDNN_OPTS=0`.\n"
     ]
    }
   ],
   "source": [
    "## Import some standard packages and define a few functions\n",
    "import time\n",
    "import importlib\n",
    "import numpy as np\n",
    "import pandas as pd\n",
    "from matplotlib import cm\n",
    "from sklearn import metrics\n",
    "import matplotlib.pyplot as plt\n",
    "from Scripts import PlotHelpers\n",
    "from matplotlib.colors import Normalize\n",
    "from Scripts import ReadDB, MiscFuncs, NNetFuncs\n",
    "\n",
    "dbNames = {\n",
    "    'Clean/SecondStage/TA_1_1_1':'TA',\n",
    "    'Clean/SecondStage/RH_1_1_1':'RH',\n",
    "    'Clean/SecondStage/FC':'FCO2',\n",
    "    'Clean/SecondStage/FCH4':'FCH4',\n",
    "    'Clean/SecondStage/PPFD_IN_1_1_1':'PPFD',\n",
    "    'Clean/SecondStage/P_1_1_1':'P',\n",
    "    'Flux/qc_co2_flux':'qc_FCO2',\n",
    "    'Flux/qc_ch4_flux':'qc_FCH4',\n",
    "    'Clean/SecondStage/USTAR':'USTAR',\n",
    "    'Clean/SecondStage/TS_1':'TS_1',\n",
    "    'Clean/SecondStage/TS_2':'TS_2',\n",
    "    'Clean/SecondStage/TS_3':'TS_3',\n",
    "    'Clean/SecondStage/wind_speed':'U',\n",
    "    'Clean/SecondStage/wind_dir':'dir',\n",
    "    'Met/MET_WaterLevel_Avg':'WTD_raw',\n",
    "    'Clean/SecondStage/WTD_1_1_1':'WTD',\n",
    "}\n",
    "\n",
    "Local = '/mnt/c/Users/User/PostDoc_Work/database/'\n",
    "Remote = '/mnt/w/'\n",
    "\n",
    "Dir = Remote\n",
    "\n",
    "Site = 'BB'\n",
    "\n",
    "read_new = False\n",
    "if read_new == True:\n",
    "    Data = ReadDB.get_Traces(Site,list(dbNames.keys()),Dir=Dir)\n",
    "    Data = Data.rename(columns=dbNames)\n",
    "    Data.to_csv(f'temp/{Site}_VPD.csv')\n",
    "\n",
    "else:\n",
    "    Data = pd.read_csv(f'temp/{Site}_VPD.csv',parse_dates=['TimeStamp'],index_col='TimeStamp')\n"
   ]
  },
  {
   "attachments": {},
   "cell_type": "markdown",
   "id": "389e083d",
   "metadata": {},
   "source": [
    "## Pre-processing"
   ]
  },
  {
   "cell_type": "code",
   "execution_count": 2,
   "id": "351a0f26",
   "metadata": {},
   "outputs": [
    {
     "name": "stdout",
     "output_type": "stream",
     "text": [
      "               FCO2          FCH4\n",
      "count  37260.000000  42498.000000\n",
      "mean      -0.333153     52.984234\n",
      "std        4.312031     69.966599\n",
      "min      -49.348000   -199.917200\n",
      "25%       -1.711623      9.618972\n",
      "50%       -0.131327     34.761661\n",
      "75%        0.749001     90.470169\n",
      "max       49.777348    695.056900\n"
     ]
    }
   ],
   "source": [
    "importlib.reload(ReadDB)\n",
    "\n",
    "Data['VPD'] = MiscFuncs.Calc_VPD(Data['TA'],Data['RH'])\n",
    "Data['DOY'] = Data.index.dayofyear\n",
    "\n",
    "inputs = ['PPFD','VPD','TS_1','Rand']\n",
    "target = ['FCO2']\n",
    "\n",
    "Data['Rand']=np.random.random(Data['FCO2'].values.shape)\n",
    "Data['Rand100']=Data['Rand']*100\n",
    "\n",
    "print(Data[['FCO2','FCH4']].describe())\n",
    "filter = ReadDB.filterFlux(Data,target)\n",
    "filter.QA_QC()\n",
    "filter.rain('P',thresh=1)\n",
    "filter.MAD(z=7)\n",
    "filter.uStar('USTAR',u_thresh=0.05)\n",
    "\n",
    "Data[['FCO2_Clean','FCH4_Clean']] = filter.df[['FCO2','FCH4']].copy()\n",
    "\n",
    "Clean_Data = filter.df.copy()"
   ]
  },
  {
   "attachments": {},
   "cell_type": "markdown",
   "id": "44b3efec",
   "metadata": {},
   "source": [
    "# Make Scenarios"
   ]
  },
  {
   "cell_type": "code",
   "execution_count": 6,
   "id": "159b0236",
   "metadata": {},
   "outputs": [
    {
     "name": "stdout",
     "output_type": "stream",
     "text": [
      "(112083, 3) (28021, 3)\n",
      "(29756, 6) (7439, 6)\n",
      "(13945, 9) (3486, 9)\n"
     ]
    }
   ],
   "source": [
    "def Config_Defauls(run,name):\n",
    "    run['config']['Name']=name\n",
    "    run['config']['Nodes']=[64]\n",
    "    run['config']['Activation']=['relu']\n",
    "    run['config']['epochs']=250\n",
    "    run['config']['batch_size']=32\n",
    "    run['config']['Norm']=True\n",
    "    run['config']['N_models']=3\n",
    "    run['config']['RF_comp']=True\n",
    "\n",
    "    run['Training'] = {}\n",
    "    run['Evaluation'] = {}\n",
    "    run['Full'] = {}\n",
    "    return(run)\n",
    "\n",
    "    \n",
    "\n",
    "Model_Runs = {\n",
    "    'VPD_Estimate':{\n",
    "        'config':{\n",
    "            'target':['VPD'],\n",
    "            'inputs':['TA','RH'],\n",
    "            },\n",
    "        },\n",
    "    'Noisy_Data':{\n",
    "        'config':{\n",
    "            'target':['FCO2'],\n",
    "            'inputs':['PPFD','VPD','TS_1','TS_2','USTAR'],\n",
    "            },\n",
    "        },\n",
    "    'Feature_Detection':{\n",
    "        'config':{\n",
    "            'target':['FCO2_Clean'],\n",
    "            'inputs':['PPFD','VPD','TS_1','TS_2','TS_3','U','dir','Rand'],\n",
    "            },\n",
    "        },\n",
    "}\n",
    "\n",
    "for key in Model_Runs.keys():\n",
    "    Model_Runs[key] = Config_Defauls(Model_Runs[key],key)\n",
    "    target = Model_Runs[key]['config']['target']\n",
    "    inputs = Model_Runs[key]['config']['inputs']\n",
    "    Training,Validation = MiscFuncs.makeMask(Data.loc[Data[target+inputs].dropna().index],\n",
    "                                             target,dropOut=.2)\n",
    "    print(Training[target+inputs].shape,Validation[target+inputs].shape)\n",
    "    Model_Runs[key]['Training']['X'] = Training[inputs].values\n",
    "    Model_Runs[key]['Training']['Y'] = Training[target].values.flatten()\n",
    "    Model_Runs[key]['Evaluation']['X'] = Validation[inputs].values\n",
    "    Model_Runs[key]['Evaluation']['Y'] = Validation[target].values.flatten()\n",
    "    Model_Runs[key]['Full']['X'] = Data[inputs].values\n",
    "    Model_Runs[key]['Full']['Y'] = Data[target].values.flatten()\n",
    "    Model_Runs[key]['config']['mean'] = Data[inputs].mean().values\n",
    "    Model_Runs[key]['config']['variance'] = Data[inputs].std().values**2"
   ]
  },
  {
   "attachments": {},
   "cell_type": "markdown",
   "id": "4afcb1ab",
   "metadata": {},
   "source": [
    "## Build and train model"
   ]
  },
  {
   "cell_type": "code",
   "execution_count": 8,
   "id": "6883eaed",
   "metadata": {},
   "outputs": [
    {
     "name": "stdout",
     "output_type": "stream",
     "text": [
      "Model: \"VPD_Estimate\"\n",
      "_________________________________________________________________\n",
      " Layer (type)                Output Shape              Param #   \n",
      "=================================================================\n",
      " input_1 (InputLayer)        [(None, 2)]               0         \n",
      "                                                                 \n",
      " normalization (Normalizatio  (None, 2)                0         \n",
      " n)                                                              \n",
      "                                                                 \n",
      " dense (Dense)               (None, 64)                192       \n",
      "                                                                 \n",
      " dense_1 (Dense)             (None, 1)                 65        \n",
      "                                                                 \n",
      "=================================================================\n",
      "Total params: 257\n",
      "Trainable params: 257\n",
      "Non-trainable params: 0\n",
      "_________________________________________________________________\n"
     ]
    },
    {
     "name": "stderr",
     "output_type": "stream",
     "text": [
      "2023-05-06 10:36:36.536135: I tensorflow/stream_executor/cuda/cuda_gpu_executor.cc:961] could not open file to read NUMA node: /sys/bus/pci/devices/0000:01:00.0/numa_node\n",
      "Your kernel may have been built without NUMA support.\n",
      "2023-05-06 10:36:36.594401: I tensorflow/stream_executor/cuda/cuda_gpu_executor.cc:961] could not open file to read NUMA node: /sys/bus/pci/devices/0000:01:00.0/numa_node\n",
      "Your kernel may have been built without NUMA support.\n",
      "2023-05-06 10:36:36.594451: I tensorflow/stream_executor/cuda/cuda_gpu_executor.cc:961] could not open file to read NUMA node: /sys/bus/pci/devices/0000:01:00.0/numa_node\n",
      "Your kernel may have been built without NUMA support.\n",
      "2023-05-06 10:36:36.595204: I tensorflow/core/platform/cpu_feature_guard.cc:193] This TensorFlow binary is optimized with oneAPI Deep Neural Network Library (oneDNN) to use the following CPU instructions in performance-critical operations:  AVX2 AVX512F AVX512_VNNI FMA\n",
      "To enable them in other operations, rebuild TensorFlow with the appropriate compiler flags.\n",
      "2023-05-06 10:36:36.597258: I tensorflow/stream_executor/cuda/cuda_gpu_executor.cc:961] could not open file to read NUMA node: /sys/bus/pci/devices/0000:01:00.0/numa_node\n",
      "Your kernel may have been built without NUMA support.\n",
      "2023-05-06 10:36:36.597323: I tensorflow/stream_executor/cuda/cuda_gpu_executor.cc:961] could not open file to read NUMA node: /sys/bus/pci/devices/0000:01:00.0/numa_node\n",
      "Your kernel may have been built without NUMA support.\n",
      "2023-05-06 10:36:36.597365: I tensorflow/stream_executor/cuda/cuda_gpu_executor.cc:961] could not open file to read NUMA node: /sys/bus/pci/devices/0000:01:00.0/numa_node\n",
      "Your kernel may have been built without NUMA support.\n",
      "2023-05-06 10:36:37.793493: I tensorflow/stream_executor/cuda/cuda_gpu_executor.cc:961] could not open file to read NUMA node: /sys/bus/pci/devices/0000:01:00.0/numa_node\n",
      "Your kernel may have been built without NUMA support.\n",
      "2023-05-06 10:36:37.793578: I tensorflow/stream_executor/cuda/cuda_gpu_executor.cc:961] could not open file to read NUMA node: /sys/bus/pci/devices/0000:01:00.0/numa_node\n",
      "Your kernel may have been built without NUMA support.\n",
      "2023-05-06 10:36:37.793584: I tensorflow/core/common_runtime/gpu/gpu_device.cc:1616] Could not identify NUMA node of platform GPU id 0, defaulting to 0.  Your kernel may not have been built with NUMA support.\n",
      "2023-05-06 10:36:37.793612: I tensorflow/stream_executor/cuda/cuda_gpu_executor.cc:961] could not open file to read NUMA node: /sys/bus/pci/devices/0000:01:00.0/numa_node\n",
      "Your kernel may have been built without NUMA support.\n",
      "2023-05-06 10:36:37.793655: I tensorflow/core/common_runtime/gpu/gpu_device.cc:1532] Created device /job:localhost/replica:0/task:0/device:GPU:0 with 3447 MB memory:  -> device: 0, name: NVIDIA GeForce RTX 3060 Laptop GPU, pci bus id: 0000:01:00.0, compute capability: 8.6\n"
     ]
    },
    {
     "name": "stdout",
     "output_type": "stream",
     "text": [
      "None\n"
     ]
    },
    {
     "name": "stderr",
     "output_type": "stream",
     "text": [
      "2023-05-06 10:36:39.945020: I tensorflow/stream_executor/cuda/cuda_blas.cc:1786] TensorFloat-32 will be used for the matrix multiplication. This will only be logged once.\n"
     ]
    },
    {
     "name": "stdout",
     "output_type": "stream",
     "text": [
      "Training Time:\n",
      " 390.82  Seconds\n",
      "\n",
      "Training RF Model\n",
      "Training Time:\n",
      " 17.38  Seconds\n"
     ]
    }
   ],
   "source": [
    "importlib.reload(NNetFuncs)\n",
    "\n",
    "# run = 'Noisy_Data'\n",
    "\n",
    "Runs = ['VPD_Estimate']#,'Feature_Detection']\n",
    "for run in Runs:\n",
    "    config = Model_Runs[run]['config']\n",
    "    Training = Model_Runs[run]['Training']\n",
    "\n",
    "    NNetFuncs.make_Dense_model(config)\n",
    "    NNetFuncs.train_model(config,Training)"
   ]
  },
  {
   "attachments": {},
   "cell_type": "markdown",
   "id": "a5ab7d10",
   "metadata": {},
   "source": [
    "# Run and evaluate trained model"
   ]
  },
  {
   "cell_type": "code",
   "execution_count": 9,
   "id": "5f0fbb4f",
   "metadata": {},
   "outputs": [
    {
     "name": "stdout",
     "output_type": "stream",
     "text": [
      "NN Model\n",
      " Validation metrics (ensemble mean): \n",
      "r2 =  0.99997 \n",
      "RMSE =  0.0211\n",
      "Run Time:\n",
      " 1.39  Seconds\n",
      "\n",
      "\n",
      "RF Model \n",
      "Validation metrics: \n",
      "r2 =  0.99993 \n",
      "RMSE =  0.00102\n",
      "(100, 2)\n",
      "Run Time:\n",
      " 2.33  Seconds\n"
     ]
    }
   ],
   "source": [
    "importlib.reload(NNetFuncs)\n",
    "\n",
    "# Runs = []\n",
    "\n",
    "for run in Runs:\n",
    "    config = Model_Runs[run]['config']\n",
    "    Data = Model_Runs[run]['Evaluation']\n",
    "    full_out=NNetFuncs.run_Model(config,Data)\n"
   ]
  },
  {
   "cell_type": "code",
   "execution_count": 12,
   "id": "b0ab4888",
   "metadata": {},
   "outputs": [
    {
     "data": {
      "text/html": [
       "<div>\n",
       "<style scoped>\n",
       "    .dataframe tbody tr th:only-of-type {\n",
       "        vertical-align: middle;\n",
       "    }\n",
       "\n",
       "    .dataframe tbody tr th {\n",
       "        vertical-align: top;\n",
       "    }\n",
       "\n",
       "    .dataframe thead th {\n",
       "        text-align: right;\n",
       "    }\n",
       "</style>\n",
       "<table border=\"1\" class=\"dataframe\">\n",
       "  <thead>\n",
       "    <tr style=\"text-align: right;\">\n",
       "      <th></th>\n",
       "      <th>target</th>\n",
       "      <th>y_bar</th>\n",
       "      <th>y_CI95</th>\n",
       "      <th>TA</th>\n",
       "      <th>dy_dTA</th>\n",
       "      <th>dy_dTA_CI95</th>\n",
       "      <th>RH</th>\n",
       "      <th>dy_dRH</th>\n",
       "      <th>dy_dRH_CI95</th>\n",
       "      <th>dy_dTA_norm</th>\n",
       "      <th>dy_dTA_norm_CI95</th>\n",
       "      <th>dy_dRH_norm</th>\n",
       "      <th>dy_dRH_norm_CI95</th>\n",
       "    </tr>\n",
       "  </thead>\n",
       "  <tbody>\n",
       "    <tr>\n",
       "      <th>0</th>\n",
       "      <td>0.270034</td>\n",
       "      <td>0.300944</td>\n",
       "      <td>0.042382</td>\n",
       "      <td>-5.533580</td>\n",
       "      <td>0.024451</td>\n",
       "      <td>0.009073</td>\n",
       "      <td>93.360290</td>\n",
       "      <td>-0.043456</td>\n",
       "      <td>0.012337</td>\n",
       "      <td>0.169464</td>\n",
       "      <td>0.062880</td>\n",
       "      <td>-0.673114</td>\n",
       "      <td>0.191090</td>\n",
       "    </tr>\n",
       "    <tr>\n",
       "      <th>1</th>\n",
       "      <td>0.285102</td>\n",
       "      <td>0.316917</td>\n",
       "      <td>0.046563</td>\n",
       "      <td>-5.642763</td>\n",
       "      <td>0.024451</td>\n",
       "      <td>0.009073</td>\n",
       "      <td>92.931300</td>\n",
       "      <td>-0.043456</td>\n",
       "      <td>0.012337</td>\n",
       "      <td>0.169464</td>\n",
       "      <td>0.062880</td>\n",
       "      <td>-0.673114</td>\n",
       "      <td>0.191090</td>\n",
       "    </tr>\n",
       "    <tr>\n",
       "      <th>2</th>\n",
       "      <td>0.629921</td>\n",
       "      <td>0.642112</td>\n",
       "      <td>0.022682</td>\n",
       "      <td>-1.000655</td>\n",
       "      <td>0.041666</td>\n",
       "      <td>0.027850</td>\n",
       "      <td>88.957664</td>\n",
       "      <td>-0.049247</td>\n",
       "      <td>0.007925</td>\n",
       "      <td>0.288776</td>\n",
       "      <td>0.193021</td>\n",
       "      <td>-0.762807</td>\n",
       "      <td>0.122758</td>\n",
       "    </tr>\n",
       "    <tr>\n",
       "      <th>3</th>\n",
       "      <td>1.632419</td>\n",
       "      <td>1.630041</td>\n",
       "      <td>0.018399</td>\n",
       "      <td>1.472991</td>\n",
       "      <td>0.101518</td>\n",
       "      <td>0.016948</td>\n",
       "      <td>76.081710</td>\n",
       "      <td>-0.068318</td>\n",
       "      <td>0.009420</td>\n",
       "      <td>0.703594</td>\n",
       "      <td>0.117466</td>\n",
       "      <td>-1.058213</td>\n",
       "      <td>0.145905</td>\n",
       "    </tr>\n",
       "    <tr>\n",
       "      <th>4</th>\n",
       "      <td>2.057611</td>\n",
       "      <td>2.053821</td>\n",
       "      <td>0.018041</td>\n",
       "      <td>3.112818</td>\n",
       "      <td>0.135750</td>\n",
       "      <td>0.011745</td>\n",
       "      <td>73.177100</td>\n",
       "      <td>-0.094088</td>\n",
       "      <td>0.006172</td>\n",
       "      <td>0.940851</td>\n",
       "      <td>0.081401</td>\n",
       "      <td>-1.457380</td>\n",
       "      <td>0.095608</td>\n",
       "    </tr>\n",
       "  </tbody>\n",
       "</table>\n",
       "</div>"
      ],
      "text/plain": [
       "     target     y_bar    y_CI95        TA    dy_dTA  dy_dTA_CI95         RH  \\\n",
       "0  0.270034  0.300944  0.042382 -5.533580  0.024451     0.009073  93.360290   \n",
       "1  0.285102  0.316917  0.046563 -5.642763  0.024451     0.009073  92.931300   \n",
       "2  0.629921  0.642112  0.022682 -1.000655  0.041666     0.027850  88.957664   \n",
       "3  1.632419  1.630041  0.018399  1.472991  0.101518     0.016948  76.081710   \n",
       "4  2.057611  2.053821  0.018041  3.112818  0.135750     0.011745  73.177100   \n",
       "\n",
       "     dy_dRH  dy_dRH_CI95  dy_dTA_norm  dy_dTA_norm_CI95  dy_dRH_norm  \\\n",
       "0 -0.043456     0.012337     0.169464          0.062880    -0.673114   \n",
       "1 -0.043456     0.012337     0.169464          0.062880    -0.673114   \n",
       "2 -0.049247     0.007925     0.288776          0.193021    -0.762807   \n",
       "3 -0.068318     0.009420     0.703594          0.117466    -1.058213   \n",
       "4 -0.094088     0.006172     0.940851          0.081401    -1.457380   \n",
       "\n",
       "   dy_dRH_norm_CI95  \n",
       "0          0.191090  \n",
       "1          0.191090  \n",
       "2          0.122758  \n",
       "3          0.145905  \n",
       "4          0.095608  "
      ]
     },
     "execution_count": 12,
     "metadata": {},
     "output_type": "execute_result"
    }
   ],
   "source": [
    "NN_Output = pd.read_csv(f'{run}/model_output.csv',index_col=[0])\n",
    "\n",
    "NN_Output.head()\n"
   ]
  },
  {
   "cell_type": "code",
   "execution_count": 13,
   "id": "b402719d",
   "metadata": {},
   "outputs": [
    {
     "data": {
      "text/html": [
       "<div>\n",
       "<style scoped>\n",
       "    .dataframe tbody tr th:only-of-type {\n",
       "        vertical-align: middle;\n",
       "    }\n",
       "\n",
       "    .dataframe tbody tr th {\n",
       "        vertical-align: top;\n",
       "    }\n",
       "\n",
       "    .dataframe thead th {\n",
       "        text-align: right;\n",
       "    }\n",
       "</style>\n",
       "<table border=\"1\" class=\"dataframe\">\n",
       "  <thead>\n",
       "    <tr style=\"text-align: right;\">\n",
       "      <th></th>\n",
       "      <th>target</th>\n",
       "      <th>y_bar</th>\n",
       "      <th>y_CI95</th>\n",
       "    </tr>\n",
       "  </thead>\n",
       "  <tbody>\n",
       "    <tr>\n",
       "      <th>0</th>\n",
       "      <td>0.270034</td>\n",
       "      <td>0.268923</td>\n",
       "      <td>0.000334</td>\n",
       "    </tr>\n",
       "    <tr>\n",
       "      <th>1</th>\n",
       "      <td>0.285102</td>\n",
       "      <td>0.284683</td>\n",
       "      <td>0.000834</td>\n",
       "    </tr>\n",
       "    <tr>\n",
       "      <th>2</th>\n",
       "      <td>0.629921</td>\n",
       "      <td>0.627934</td>\n",
       "      <td>0.001479</td>\n",
       "    </tr>\n",
       "    <tr>\n",
       "      <th>3</th>\n",
       "      <td>1.632419</td>\n",
       "      <td>1.628556</td>\n",
       "      <td>0.005303</td>\n",
       "    </tr>\n",
       "    <tr>\n",
       "      <th>4</th>\n",
       "      <td>2.057611</td>\n",
       "      <td>2.055004</td>\n",
       "      <td>0.004972</td>\n",
       "    </tr>\n",
       "  </tbody>\n",
       "</table>\n",
       "</div>"
      ],
      "text/plain": [
       "     target     y_bar    y_CI95\n",
       "0  0.270034  0.268923  0.000334\n",
       "1  0.285102  0.284683  0.000834\n",
       "2  0.629921  0.627934  0.001479\n",
       "3  1.632419  1.628556  0.005303\n",
       "4  2.057611  2.055004  0.004972"
      ]
     },
     "execution_count": 13,
     "metadata": {},
     "output_type": "execute_result"
    }
   ],
   "source": [
    "RF_Output = pd.read_csv(f'{run}/random_forest_output.csv',index_col=[0])\n",
    "\n",
    "RF_Output.head()\n"
   ]
  },
  {
   "cell_type": "code",
   "execution_count": 16,
   "id": "d1402835",
   "metadata": {},
   "outputs": [
    {
     "data": {
      "image/png": "[encoded data removed]",
      "text/plain": [
       "<Figure size 640x480 with 1 Axes>"
      ]
     },
     "metadata": {},
     "output_type": "display_data"
    }
   ],
   "source": [
    "NN_RI = pd.read_csv(f'{run}/model_RI.csv',index_col=[0])\n",
    "mod = '_norm'\n",
    "\n",
    "NN_RI = NN_RI.sort_values(by=f'RI{mod}_bar',ascending=True)\n",
    "fig,ax=plt.subplots()\n",
    "\n",
    "ax.barh(NN_RI.index,NN_RI[f'RI{mod}_bar'],yerr=NN_RI[f'RI{mod}_CI95'])\n",
    "ax.grid()\n"
   ]
  },
  {
   "cell_type": "code",
   "execution_count": 14,
   "id": "cd68f71b",
   "metadata": {},
   "outputs": [
    {
     "data": {
      "text/html": [
       "<div>\n",
       "<style scoped>\n",
       "    .dataframe tbody tr th:only-of-type {\n",
       "        vertical-align: middle;\n",
       "    }\n",
       "\n",
       "    .dataframe tbody tr th {\n",
       "        vertical-align: top;\n",
       "    }\n",
       "\n",
       "    .dataframe thead th {\n",
       "        text-align: right;\n",
       "    }\n",
       "</style>\n",
       "<table border=\"1\" class=\"dataframe\">\n",
       "  <thead>\n",
       "    <tr style=\"text-align: right;\">\n",
       "      <th></th>\n",
       "      <th>target</th>\n",
       "      <th>y_bar</th>\n",
       "      <th>y_CI95</th>\n",
       "    </tr>\n",
       "  </thead>\n",
       "  <tbody>\n",
       "    <tr>\n",
       "      <th>0</th>\n",
       "      <td>0.270034</td>\n",
       "      <td>0.268923</td>\n",
       "      <td>0.000334</td>\n",
       "    </tr>\n",
       "    <tr>\n",
       "      <th>1</th>\n",
       "      <td>0.285102</td>\n",
       "      <td>0.284683</td>\n",
       "      <td>0.000834</td>\n",
       "    </tr>\n",
       "    <tr>\n",
       "      <th>2</th>\n",
       "      <td>0.629921</td>\n",
       "      <td>0.627934</td>\n",
       "      <td>0.001479</td>\n",
       "    </tr>\n",
       "    <tr>\n",
       "      <th>3</th>\n",
       "      <td>1.632419</td>\n",
       "      <td>1.628556</td>\n",
       "      <td>0.005303</td>\n",
       "    </tr>\n",
       "    <tr>\n",
       "      <th>4</th>\n",
       "      <td>2.057611</td>\n",
       "      <td>2.055004</td>\n",
       "      <td>0.004972</td>\n",
       "    </tr>\n",
       "  </tbody>\n",
       "</table>\n",
       "</div>"
      ],
      "text/plain": [
       "     target     y_bar    y_CI95\n",
       "0  0.270034  0.268923  0.000334\n",
       "1  0.285102  0.284683  0.000834\n",
       "2  0.629921  0.627934  0.001479\n",
       "3  1.632419  1.628556  0.005303\n",
       "4  2.057611  2.055004  0.004972"
      ]
     },
     "execution_count": 14,
     "metadata": {},
     "output_type": "execute_result"
    }
   ],
   "source": [
    "RF_Output = pd.read_csv(f'{run}/random_forest_output.csv',index_col=[0])\n",
    "\n",
    "RF_Output.head()"
   ]
  },
  {
   "cell_type": "code",
   "execution_count": 15,
   "id": "54681a6e",
   "metadata": {},
   "outputs": [
    {
     "data": {
      "image/png": "[encoded data removed]",
      "text/plain": [
       "<Figure size 640x480 with 1 Axes>"
      ]
     },
     "metadata": {},
     "output_type": "display_data"
    }
   ],
   "source": [
    "RF_RI = pd.read_csv(f'{run}/random_forest_RI.csv',index_col=[0])\n",
    "\n",
    "mod = ''\n",
    "\n",
    "RF_RI = RF_RI.sort_values(by = f'RI{mod}_bar')\n",
    "\n",
    "\n",
    "fig,ax=plt.subplots()\n",
    "ax.barh(RF_RI.index,RF_RI[f'RI{mod}_bar'],yerr=RF_RI[f'RI{mod}_CI95'])\n",
    "ax.grid()"
   ]
  },
  {
   "attachments": {},
   "cell_type": "markdown",
   "id": "a2fc7b9d",
   "metadata": {},
   "source": [
    "## Relative influence of features"
   ]
  },
  {
   "attachments": {},
   "cell_type": "markdown",
   "id": "9deac08a",
   "metadata": {},
   "source": [
    "# Plot derivatives"
   ]
  },
  {
   "cell_type": "code",
   "execution_count": 8,
   "id": "c44b31be",
   "metadata": {},
   "outputs": [
    {
     "ename": "KeyError",
     "evalue": "\"None of [Index(['dy_dPPFDnorm'], dtype='object')] are in the [columns]\"",
     "output_type": "error",
     "traceback": [
      "\u001b[0;31m---------------------------------------------------------------------------\u001b[0m",
      "\u001b[0;31mKeyError\u001b[0m                                  Traceback (most recent call last)",
      "Cell \u001b[0;32mIn[8], line 8\u001b[0m\n\u001b[1;32m      5\u001b[0m mod \u001b[39m=\u001b[39m \u001b[39m'\u001b[39m\u001b[39mnorm\u001b[39m\u001b[39m'\u001b[39m\n\u001b[1;32m      7\u001b[0m \u001b[39mfor\u001b[39;00m i,xi \u001b[39min\u001b[39;00m \u001b[39menumerate\u001b[39m(Model_Runs[run][\u001b[39m'\u001b[39m\u001b[39mconfig\u001b[39m\u001b[39m'\u001b[39m][\u001b[39m'\u001b[39m\u001b[39minputs\u001b[39m\u001b[39m'\u001b[39m]):\n\u001b[0;32m----> 8\u001b[0m     df \u001b[39m=\u001b[39m MiscFuncs\u001b[39m.\u001b[39;49mbyInterval(Mean_Output,\u001b[39mf\u001b[39;49m\u001b[39m'\u001b[39;49m\u001b[39m{\u001b[39;49;00mxi\u001b[39m}\u001b[39;49;00m\u001b[39m'\u001b[39;49m,[\u001b[39mf\u001b[39;49m\u001b[39m'\u001b[39;49m\u001b[39mdy_d\u001b[39;49m\u001b[39m{\u001b[39;49;00mxi\u001b[39m}\u001b[39;49;00m\u001b[39m{\u001b[39;49;00mmod\u001b[39m}\u001b[39;49;00m\u001b[39m'\u001b[39;49m],bins\u001b[39m=\u001b[39;49m\u001b[39m10\u001b[39;49m)\n\u001b[1;32m      9\u001b[0m     PlotHelpers\u001b[39m.\u001b[39mCI_Plot(axes[i],df,\u001b[39mf\u001b[39m\u001b[39m'\u001b[39m\u001b[39mdy_d\u001b[39m\u001b[39m{\u001b[39;00mxi\u001b[39m}\u001b[39;00m\u001b[39m{\u001b[39;00mmod\u001b[39m}\u001b[39;00m\u001b[39m'\u001b[39m)\n\u001b[1;32m     10\u001b[0m plt\u001b[39m.\u001b[39mtight_layout()\n",
      "File \u001b[0;32m~/NN_Applications/Scripts/MiscFuncs.py:62\u001b[0m, in \u001b[0;36mbyInterval\u001b[0;34m(df, x, Vars, bins, agg)\u001b[0m\n\u001b[1;32m     60\u001b[0m         df \u001b[39m=\u001b[39m df\u001b[39m.\u001b[39mdrop(\u001b[39m'\u001b[39m\u001b[39mbins\u001b[39m\u001b[39m'\u001b[39m,axis\u001b[39m=\u001b[39m\u001b[39m1\u001b[39m)        \n\u001b[1;32m     61\u001b[0m     Set \u001b[39m=\u001b[39m df\u001b[39m.\u001b[39mgroupby(\u001b[39mf\u001b[39m\u001b[39m'\u001b[39m\u001b[39m{\u001b[39;00mx\u001b[39m}\u001b[39;00m\u001b[39m_grp\u001b[39m\u001b[39m'\u001b[39m)\u001b[39m.\u001b[39magg(agg,numeric_only\u001b[39m=\u001b[39m\u001b[39mTrue\u001b[39;00m)\n\u001b[0;32m---> 62\u001b[0m     Set[STD] \u001b[39m=\u001b[39m df\u001b[39m.\u001b[39;49mgroupby(\u001b[39mf\u001b[39;49m\u001b[39m'\u001b[39;49m\u001b[39m{\u001b[39;49;00mx\u001b[39m}\u001b[39;49;00m\u001b[39m_grp\u001b[39;49m\u001b[39m'\u001b[39;49m)\u001b[39m.\u001b[39;49mstd(numeric_only\u001b[39m=\u001b[39;49m\u001b[39mTrue\u001b[39;49;00m)[Vars]\n\u001b[1;32m     63\u001b[0m     Set[c] \u001b[39m=\u001b[39m df\u001b[39m.\u001b[39mgroupby(\u001b[39mf\u001b[39m\u001b[39m'\u001b[39m\u001b[39m{\u001b[39;00mx\u001b[39m}\u001b[39;00m\u001b[39m_grp\u001b[39m\u001b[39m'\u001b[39m)\u001b[39m.\u001b[39mcount()[Vars]\n\u001b[1;32m     64\u001b[0m Set[CI] \u001b[39m=\u001b[39m Set[STD]\u001b[39m.\u001b[39mvalues\u001b[39m/\u001b[39m(Set[c]\u001b[39m.\u001b[39mvalues\u001b[39m*\u001b[39m\u001b[39m*\u001b[39m\u001b[39m.5\u001b[39m)\u001b[39m*\u001b[39m(stats\u001b[39m.\u001b[39mt\u001b[39m.\u001b[39mppf(\u001b[39m0.95\u001b[39m,Set[c]\u001b[39m.\u001b[39mvalues))\n",
      "File \u001b[0;32m~/miniconda3/envs/tf/lib/python3.10/site-packages/pandas/core/frame.py:3813\u001b[0m, in \u001b[0;36mDataFrame.__getitem__\u001b[0;34m(self, key)\u001b[0m\n\u001b[1;32m   3811\u001b[0m     \u001b[39mif\u001b[39;00m is_iterator(key):\n\u001b[1;32m   3812\u001b[0m         key \u001b[39m=\u001b[39m \u001b[39mlist\u001b[39m(key)\n\u001b[0;32m-> 3813\u001b[0m     indexer \u001b[39m=\u001b[39m \u001b[39mself\u001b[39;49m\u001b[39m.\u001b[39;49mcolumns\u001b[39m.\u001b[39;49m_get_indexer_strict(key, \u001b[39m\"\u001b[39;49m\u001b[39mcolumns\u001b[39;49m\u001b[39m\"\u001b[39;49m)[\u001b[39m1\u001b[39m]\n\u001b[1;32m   3815\u001b[0m \u001b[39m# take() does not accept boolean indexers\u001b[39;00m\n\u001b[1;32m   3816\u001b[0m \u001b[39mif\u001b[39;00m \u001b[39mgetattr\u001b[39m(indexer, \u001b[39m\"\u001b[39m\u001b[39mdtype\u001b[39m\u001b[39m\"\u001b[39m, \u001b[39mNone\u001b[39;00m) \u001b[39m==\u001b[39m \u001b[39mbool\u001b[39m:\n",
      "File \u001b[0;32m~/miniconda3/envs/tf/lib/python3.10/site-packages/pandas/core/indexes/base.py:6070\u001b[0m, in \u001b[0;36mIndex._get_indexer_strict\u001b[0;34m(self, key, axis_name)\u001b[0m\n\u001b[1;32m   6067\u001b[0m \u001b[39melse\u001b[39;00m:\n\u001b[1;32m   6068\u001b[0m     keyarr, indexer, new_indexer \u001b[39m=\u001b[39m \u001b[39mself\u001b[39m\u001b[39m.\u001b[39m_reindex_non_unique(keyarr)\n\u001b[0;32m-> 6070\u001b[0m \u001b[39mself\u001b[39;49m\u001b[39m.\u001b[39;49m_raise_if_missing(keyarr, indexer, axis_name)\n\u001b[1;32m   6072\u001b[0m keyarr \u001b[39m=\u001b[39m \u001b[39mself\u001b[39m\u001b[39m.\u001b[39mtake(indexer)\n\u001b[1;32m   6073\u001b[0m \u001b[39mif\u001b[39;00m \u001b[39misinstance\u001b[39m(key, Index):\n\u001b[1;32m   6074\u001b[0m     \u001b[39m# GH 42790 - Preserve name from an Index\u001b[39;00m\n",
      "File \u001b[0;32m~/miniconda3/envs/tf/lib/python3.10/site-packages/pandas/core/indexes/base.py:6130\u001b[0m, in \u001b[0;36mIndex._raise_if_missing\u001b[0;34m(self, key, indexer, axis_name)\u001b[0m\n\u001b[1;32m   6128\u001b[0m     \u001b[39mif\u001b[39;00m use_interval_msg:\n\u001b[1;32m   6129\u001b[0m         key \u001b[39m=\u001b[39m \u001b[39mlist\u001b[39m(key)\n\u001b[0;32m-> 6130\u001b[0m     \u001b[39mraise\u001b[39;00m \u001b[39mKeyError\u001b[39;00m(\u001b[39mf\u001b[39m\u001b[39m\"\u001b[39m\u001b[39mNone of [\u001b[39m\u001b[39m{\u001b[39;00mkey\u001b[39m}\u001b[39;00m\u001b[39m] are in the [\u001b[39m\u001b[39m{\u001b[39;00maxis_name\u001b[39m}\u001b[39;00m\u001b[39m]\u001b[39m\u001b[39m\"\u001b[39m)\n\u001b[1;32m   6132\u001b[0m not_found \u001b[39m=\u001b[39m \u001b[39mlist\u001b[39m(ensure_index(key)[missing_mask\u001b[39m.\u001b[39mnonzero()[\u001b[39m0\u001b[39m]]\u001b[39m.\u001b[39munique())\n\u001b[1;32m   6133\u001b[0m \u001b[39mraise\u001b[39;00m \u001b[39mKeyError\u001b[39;00m(\u001b[39mf\u001b[39m\u001b[39m\"\u001b[39m\u001b[39m{\u001b[39;00mnot_found\u001b[39m}\u001b[39;00m\u001b[39m not in index\u001b[39m\u001b[39m\"\u001b[39m)\n",
      "\u001b[0;31mKeyError\u001b[0m: \"None of [Index(['dy_dPPFDnorm'], dtype='object')] are in the [columns]\""
     ]
    },
    {
     "data": {
      "image/png": "[encoded data removed]",
      "text/plain": [
       "<Figure size 600x1000 with 5 Axes>"
      ]
     },
     "metadata": {},
     "output_type": "display_data"
    }
   ],
   "source": [
    "npi=len(RI.index)\n",
    "\n",
    "fig,axes=plt.subplots(npi,sharey=True,figsize=(6,10))\n",
    "\n",
    "mod = 'norm'\n",
    "\n",
    "for i,xi in enumerate(Model_Runs[run]['config']['inputs']):\n",
    "    df = MiscFuncs.byInterval(Mean_Output,f'{xi}',[f'dy_d{xi}{mod}'],bins=10)\n",
    "    PlotHelpers.CI_Plot(axes[i],df,f'dy_d{xi}{mod}')\n",
    "plt.tight_layout()"
   ]
  },
  {
   "attachments": {},
   "cell_type": "markdown",
   "id": "29899584",
   "metadata": {},
   "source": [
    "# Format the training data"
   ]
  },
  {
   "cell_type": "code",
   "execution_count": null,
   "id": "f9fc3e40",
   "metadata": {},
   "outputs": [
    {
     "ename": "KeyError",
     "evalue": "'USTAR'",
     "output_type": "error",
     "traceback": [
      "\u001b[0;31m---------------------------------------------------------------------------\u001b[0m",
      "\u001b[0;31mKeyError\u001b[0m                                  Traceback (most recent call last)",
      "File \u001b[0;32m~/miniconda3/envs/tf/lib/python3.10/site-packages/pandas/core/indexes/base.py:3802\u001b[0m, in \u001b[0;36mIndex.get_loc\u001b[0;34m(self, key, method, tolerance)\u001b[0m\n\u001b[1;32m   3801\u001b[0m \u001b[39mtry\u001b[39;00m:\n\u001b[0;32m-> 3802\u001b[0m     \u001b[39mreturn\u001b[39;00m \u001b[39mself\u001b[39;49m\u001b[39m.\u001b[39;49m_engine\u001b[39m.\u001b[39;49mget_loc(casted_key)\n\u001b[1;32m   3803\u001b[0m \u001b[39mexcept\u001b[39;00m \u001b[39mKeyError\u001b[39;00m \u001b[39mas\u001b[39;00m err:\n",
      "File \u001b[0;32m~/miniconda3/envs/tf/lib/python3.10/site-packages/pandas/_libs/index.pyx:138\u001b[0m, in \u001b[0;36mpandas._libs.index.IndexEngine.get_loc\u001b[0;34m()\u001b[0m\n",
      "File \u001b[0;32m~/miniconda3/envs/tf/lib/python3.10/site-packages/pandas/_libs/index.pyx:165\u001b[0m, in \u001b[0;36mpandas._libs.index.IndexEngine.get_loc\u001b[0;34m()\u001b[0m\n",
      "File \u001b[0;32mpandas/_libs/hashtable_class_helper.pxi:5745\u001b[0m, in \u001b[0;36mpandas._libs.hashtable.PyObjectHashTable.get_item\u001b[0;34m()\u001b[0m\n",
      "File \u001b[0;32mpandas/_libs/hashtable_class_helper.pxi:5753\u001b[0m, in \u001b[0;36mpandas._libs.hashtable.PyObjectHashTable.get_item\u001b[0;34m()\u001b[0m\n",
      "\u001b[0;31mKeyError\u001b[0m: 'USTAR'",
      "\nThe above exception was the direct cause of the following exception:\n",
      "\u001b[0;31mKeyError\u001b[0m                                  Traceback (most recent call last)",
      "Cell \u001b[0;32mIn[25], line 8\u001b[0m\n\u001b[1;32m      2\u001b[0m \u001b[39m# ax.scatter(Mean_Output['target'],Mean_Output['y_bar'])\u001b[39;00m\n\u001b[1;32m      3\u001b[0m \n\u001b[1;32m      4\u001b[0m \u001b[39m# fig,axes=plt.subplots(npi,sharey=True,figsize=(6,10))\u001b[39;00m\n\u001b[1;32m      5\u001b[0m \n\u001b[1;32m      6\u001b[0m \u001b[39m# for i,xi in enumerate(Model_Runs[run]['config']['inputs']):\u001b[39;00m\n\u001b[1;32m      7\u001b[0m xi\u001b[39m=\u001b[39m\u001b[39m'\u001b[39m\u001b[39mUSTAR\u001b[39m\u001b[39m'\u001b[39m\n\u001b[0;32m----> 8\u001b[0m df \u001b[39m=\u001b[39m MiscFuncs\u001b[39m.\u001b[39;49mbyInterval(Mean_Output,\u001b[39m#.loc[Mean_Output['PPFD']<100].copy(),\u001b[39;49;00m\n\u001b[1;32m      9\u001b[0m                             \u001b[39mf\u001b[39;49m\u001b[39m'\u001b[39;49m\u001b[39m{\u001b[39;49;00mxi\u001b[39m}\u001b[39;49;00m\u001b[39m'\u001b[39;49m,[\u001b[39mf\u001b[39;49m\u001b[39m'\u001b[39;49m\u001b[39mdy_d\u001b[39;49m\u001b[39m{\u001b[39;49;00mxi\u001b[39m}\u001b[39;49;00m\u001b[39m{\u001b[39;49;00mmod\u001b[39m}\u001b[39;49;00m\u001b[39m'\u001b[39;49m],bins\u001b[39m=\u001b[39;49m\u001b[39m100\u001b[39;49m)\n\u001b[1;32m     10\u001b[0m PlotHelpers\u001b[39m.\u001b[39mCI_Plot(ax,df,\u001b[39mf\u001b[39m\u001b[39m'\u001b[39m\u001b[39mdy_d\u001b[39m\u001b[39m{\u001b[39;00mxi\u001b[39m}\u001b[39;00m\u001b[39m{\u001b[39;00mmod\u001b[39m}\u001b[39;00m\u001b[39m'\u001b[39m)\n",
      "File \u001b[0;32m~/NN_Applications/Scripts/MiscFuncs.py:58\u001b[0m, in \u001b[0;36mbyInterval\u001b[0;34m(df, x, Vars, bins, agg)\u001b[0m\n\u001b[1;32m     56\u001b[0m     df[\u001b[39mf\u001b[39m\u001b[39m\"\u001b[39m\u001b[39m{\u001b[39;00mx\u001b[39m}\u001b[39;00m\u001b[39m_grp\u001b[39m\u001b[39m\"\u001b[39m] \u001b[39m=\u001b[39m df[x]\u001b[39m.\u001b[39mcopy()\n\u001b[1;32m     57\u001b[0m \u001b[39melse\u001b[39;00m:\n\u001b[0;32m---> 58\u001b[0m     df[\u001b[39m'\u001b[39m\u001b[39mbins\u001b[39m\u001b[39m'\u001b[39m] \u001b[39m=\u001b[39m pd\u001b[39m.\u001b[39mcut(df[x],bins\u001b[39m=\u001b[39mbins)\n\u001b[1;32m     59\u001b[0m     df[\u001b[39mf\u001b[39m\u001b[39m\"\u001b[39m\u001b[39m{\u001b[39;00mx\u001b[39m}\u001b[39;00m\u001b[39m_grp\u001b[39m\u001b[39m\"\u001b[39m] \u001b[39m=\u001b[39m df[\u001b[39m'\u001b[39m\u001b[39mbins\u001b[39m\u001b[39m'\u001b[39m]\u001b[39m.\u001b[39mapply(\u001b[39mlambda\u001b[39;00m x: x\u001b[39m.\u001b[39mmid)\n\u001b[1;32m     60\u001b[0m     df \u001b[39m=\u001b[39m df\u001b[39m.\u001b[39mdrop(\u001b[39m'\u001b[39m\u001b[39mbins\u001b[39m\u001b[39m'\u001b[39m,axis\u001b[39m=\u001b[39m\u001b[39m1\u001b[39m)        \n",
      "File \u001b[0;32m~/miniconda3/envs/tf/lib/python3.10/site-packages/pandas/core/frame.py:3807\u001b[0m, in \u001b[0;36mDataFrame.__getitem__\u001b[0;34m(self, key)\u001b[0m\n\u001b[1;32m   3805\u001b[0m \u001b[39mif\u001b[39;00m \u001b[39mself\u001b[39m\u001b[39m.\u001b[39mcolumns\u001b[39m.\u001b[39mnlevels \u001b[39m>\u001b[39m \u001b[39m1\u001b[39m:\n\u001b[1;32m   3806\u001b[0m     \u001b[39mreturn\u001b[39;00m \u001b[39mself\u001b[39m\u001b[39m.\u001b[39m_getitem_multilevel(key)\n\u001b[0;32m-> 3807\u001b[0m indexer \u001b[39m=\u001b[39m \u001b[39mself\u001b[39;49m\u001b[39m.\u001b[39;49mcolumns\u001b[39m.\u001b[39;49mget_loc(key)\n\u001b[1;32m   3808\u001b[0m \u001b[39mif\u001b[39;00m is_integer(indexer):\n\u001b[1;32m   3809\u001b[0m     indexer \u001b[39m=\u001b[39m [indexer]\n",
      "File \u001b[0;32m~/miniconda3/envs/tf/lib/python3.10/site-packages/pandas/core/indexes/base.py:3804\u001b[0m, in \u001b[0;36mIndex.get_loc\u001b[0;34m(self, key, method, tolerance)\u001b[0m\n\u001b[1;32m   3802\u001b[0m     \u001b[39mreturn\u001b[39;00m \u001b[39mself\u001b[39m\u001b[39m.\u001b[39m_engine\u001b[39m.\u001b[39mget_loc(casted_key)\n\u001b[1;32m   3803\u001b[0m \u001b[39mexcept\u001b[39;00m \u001b[39mKeyError\u001b[39;00m \u001b[39mas\u001b[39;00m err:\n\u001b[0;32m-> 3804\u001b[0m     \u001b[39mraise\u001b[39;00m \u001b[39mKeyError\u001b[39;00m(key) \u001b[39mfrom\u001b[39;00m \u001b[39merr\u001b[39;00m\n\u001b[1;32m   3805\u001b[0m \u001b[39mexcept\u001b[39;00m \u001b[39mTypeError\u001b[39;00m:\n\u001b[1;32m   3806\u001b[0m     \u001b[39m# If we have a listlike key, _check_indexing_error will raise\u001b[39;00m\n\u001b[1;32m   3807\u001b[0m     \u001b[39m#  InvalidIndexError. Otherwise we fall through and re-raise\u001b[39;00m\n\u001b[1;32m   3808\u001b[0m     \u001b[39m#  the TypeError.\u001b[39;00m\n\u001b[1;32m   3809\u001b[0m     \u001b[39mself\u001b[39m\u001b[39m.\u001b[39m_check_indexing_error(key)\n",
      "\u001b[0;31mKeyError\u001b[0m: 'USTAR'"
     ]
    },
    {
     "data": {
      "image/png": "[encoded data removed]",
      "text/plain": [
       "<Figure size 640x480 with 1 Axes>"
      ]
     },
     "metadata": {},
     "output_type": "display_data"
    }
   ],
   "source": [
    "fig,ax=plt.subplots()\n",
    "# ax.scatter(Mean_Output['target'],Mean_Output['y_bar'])\n",
    "\n",
    "# fig,axes=plt.subplots(npi,sharey=True,figsize=(6,10))\n",
    "\n",
    "# for i,xi in enumerate(Model_Runs[run]['config']['inputs']):\n",
    "xi='USTAR'\n",
    "df = MiscFuncs.byInterval(Mean_Output.loc[Mean_Output['PPFD']<100].copy(),\n",
    "                            f'{xi}',[f'dy_d{xi}{mod}'],bins=100)\n",
    "PlotHelpers.CI_Plot(ax,df,f'dy_d{xi}{mod}')"
   ]
  },
  {
   "cell_type": "code",
   "execution_count": 31,
   "id": "cd478c64",
   "metadata": {},
   "outputs": [
    {
     "name": "stdout",
     "output_type": "stream",
     "text": [
      "Model: \"SHL_NN_Model\"\n",
      "_________________________________________________________________\n",
      " Layer (type)                Output Shape              Param #   \n",
      "=================================================================\n",
      " input_1 (InputLayer)        [(None, 4)]               0         \n",
      "                                                                 \n",
      " normalization (Normalizatio  (None, 4)                0         \n",
      " n)                                                              \n",
      "                                                                 \n",
      " dense (Dense)               (None, 64)                320       \n",
      "                                                                 \n",
      " dense_1 (Dense)             (None, 1)                 65        \n",
      "                                                                 \n",
      "=================================================================\n",
      "Total params: 385\n",
      "Trainable params: 385\n",
      "Non-trainable params: 0\n",
      "_________________________________________________________________\n",
      "None\n",
      "Complted Training in: 27.077788591384888 seconds\n",
      "0.8493241038623638\n",
      "0.6012874685983414\n"
     ]
    }
   ],
   "source": [
    "\n",
    "NNetFuncs.make_SHL_model(input=Data[inputs],Norm=True,m=m,v=v)\n",
    "\n",
    "T1 = time.time()\n",
    "NNetFuncs.train_model(Examples[Set][f'X_train_{norm}'],\n",
    "                      Examples[Set]['Y_train'],\n",
    "                      Sub_Models=3\n",
    "                      )\n",
    "\n",
    "T2 = time.time()\n",
    "print(f'Complted Training in: {T2-T1} seconds')\n",
    "\n",
    "\n",
    "RI,out_dx = NNetFuncs.predict_Model(Examples[Set][f'X_train_{norm}'],\n",
    "                                    x_raw=Examples[Set][f'X_train_{norm}'],\n",
    "                                    target=Examples[Set]['Y_train'],\n",
    "                                    Norm=False)\n",
    "\n",
    "print(metrics.r2_score(out_dx['target'],out_dx['y_bar']))\n",
    "print(metrics.mean_squared_error(out_dx['target'],out_dx['y_bar'])**.5)\n"
   ]
  },
  {
   "cell_type": "code",
   "execution_count": 34,
   "id": "4274b0da",
   "metadata": {},
   "outputs": [
    {
     "name": "stdout",
     "output_type": "stream",
     "text": [
      "['PPFD', 'VPD', 'TS_1', 'Rand']\n",
      "0.8493241038623638\n",
      "0.6012874685983414\n",
      "         RI     RI_95   RI_norm  RI_norm_95\n",
      "0  0.015806  0.000284  0.547886    0.009838\n",
      "1  0.152305  0.005963  0.057751    0.002261\n",
      "2  0.520502  0.009551  0.384450    0.007055\n",
      "3  0.311387  0.035706  0.009912    0.001137\n"
     ]
    },
    {
     "data": {
      "image/png": "[encoded data removed]",
      "text/plain": [
       "<Figure size 640x480 with 1 Axes>"
      ]
     },
     "metadata": {},
     "output_type": "display_data"
    },
    {
     "data": {
      "image/png": "[encoded data removed]",
      "text/plain": [
       "<Figure size 600x1000 with 4 Axes>"
      ]
     },
     "metadata": {},
     "output_type": "display_data"
    }
   ],
   "source": [
    "# print(inputs)\n",
    "\n",
    "# importlib.reload(PlotHelpers)\n",
    "# importlib.reload(MiscFuncs)\n",
    "# importlib.reload(NNetFuncs)\n",
    "\n",
    "# RI,out_dx = NNetFuncs.predict_Model(Examples[Set][f'X_train_{norm}'],\n",
    "#                                     x_raw=Examples[Set][f'X_train_{norm}'],\n",
    "#                                     target=Examples[Set]['Y_train'],\n",
    "#                                     Norm=True)\n",
    "\n",
    "print(metrics.r2_score(out_dx['target'],out_dx['y_bar']))\n",
    "print(metrics.mean_squared_error(out_dx['target'],out_dx['y_bar'])**.5)\n",
    "\n",
    "mod = '_norm'\n",
    "\n",
    "fig,ax=plt.subplots()\n",
    "ax.bar(RI.index,RI[f'RI{mod}'],yerr=RI[f'RI{mod}_95'])\n",
    "\n",
    "print(RI)\n",
    "\n",
    "npi=4\n",
    "\n",
    "fig,axes=plt.subplots(npi,sharey=True,figsize=(6,10))\n",
    "\n",
    "for i in range(npi):\n",
    "    df = MiscFuncs.byInterval(out_dx,f'x{i}',[f'dy_dx{i}{mod}'],bins=100)\n",
    "    PlotHelpers.CI_Plot(axes[i],df,f'dy_dx{i}{mod}')"
   ]
  }
 ],
 "metadata": {
  "kernelspec": {
   "display_name": "tf",
   "language": "python",
   "name": "python3"
  },
  "language_info": {
   "codemirror_mode": {
    "name": "ipython",
    "version": 3
   },
   "file_extension": ".py",
   "mimetype": "text/x-python",
   "name": "python",
   "nbconvert_exporter": "python",
   "pygments_lexer": "ipython3",
   "version": "3.10.9"
  },
  "vscode": {
   "interpreter": {
    "hash": "b3c7d882d9aa33b318aea140590f044190ccc55a72e28e2c1694cbf658f6e1f7"
   }
  }
 },
 "nbformat": 4,
 "nbformat_minor": 5
}
